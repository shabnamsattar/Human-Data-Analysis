{
  "nbformat": 4,
  "nbformat_minor": 0,
  "metadata": {
    "colab": {
      "provenance": [],
      "authorship_tag": "ABX9TyNiLz6Pp7DSVKc8c1x9XCV+",
      "include_colab_link": true
    },
    "kernelspec": {
      "name": "python3",
      "display_name": "Python 3"
    },
    "language_info": {
      "name": "python"
    }
  },
  "cells": [
    {
      "cell_type": "markdown",
      "metadata": {
        "id": "view-in-github",
        "colab_type": "text"
      },
      "source": [
        "<a href=\"https://colab.research.google.com/github/shabnamsattar/Human-Data-Analysis/blob/main/chestMNIST/chestMNIST.ipynb\" target=\"_parent\"><img src=\"https://colab.research.google.com/assets/colab-badge.svg\" alt=\"Open In Colab\"/></a>"
      ]
    },
    {
      "cell_type": "code",
      "source": [
        "import numpy as np"
      ],
      "metadata": {
        "id": "XM2BW3fghsoJ"
      },
      "execution_count": 1,
      "outputs": []
    },
    {
      "cell_type": "markdown",
      "source": [
        "# Uploading Dataset"
      ],
      "metadata": {
        "id": "EybpVMAcq50v"
      }
    },
    {
      "cell_type": "code",
      "execution_count": 2,
      "metadata": {
        "colab": {
          "base_uri": "https://localhost:8080/"
        },
        "id": "zSvoAjNBhAgL",
        "outputId": "389e964a-9b27-4b3f-8682-feec582b5fc7"
      },
      "outputs": [
        {
          "output_type": "stream",
          "name": "stdout",
          "text": [
            "Drive already mounted at /content/drive; to attempt to forcibly remount, call drive.mount(\"/content/drive\", force_remount=True).\n"
          ]
        }
      ],
      "source": [
        "from google.colab import drive\n",
        "drive.mount('/content/drive')"
      ]
    },
    {
      "cell_type": "code",
      "execution_count": 3,
      "metadata": {
        "id": "ZVoniTdbujQQ"
      },
      "outputs": [],
      "source": [
        "path1 = '/content/drive/My Drive/chestMNIST/chestmnist_64.npz'\n",
        "path2 = '/content/drive/My Drive/chestMNIST/chestmnist_128.npz'\n",
        "path3 = '/content/drive/My Drive/chestMNIST/chestmnist_224.npz'"
      ]
    },
    {
      "cell_type": "markdown",
      "source": [
        "## ChestMNIST_64"
      ],
      "metadata": {
        "id": "MnTISJUQrEoe"
      }
    },
    {
      "cell_type": "code",
      "source": [
        "data_64 = np.load(path1, mmap_mode=\"r\")\n",
        "\n",
        "train_images_64 = data_64[\"train_images\"]\n",
        "train_labels_64 = data_64[\"train_labels\"]\n",
        "val_images_64   = data_64[\"val_images\"]\n",
        "val_labels_64   = data_64[\"val_labels\"]\n",
        "test_images_64  = data_64[\"test_images\"]\n",
        "test_labels_64  = data_64[\"test_labels\"]\n"
      ],
      "metadata": {
        "id": "Ji-I9Qa5mQIm"
      },
      "execution_count": 4,
      "outputs": []
    },
    {
      "cell_type": "code",
      "execution_count": 7,
      "metadata": {
        "id": "GsdwjArXx3zz"
      },
      "outputs": [],
      "source": [
        "seed = 42\n",
        "np.random.seed(seed)\n",
        "percentage = 0.1\n",
        "\n",
        "n1 = train_images_64.shape[0]\n",
        "n2 = val_images_64.shape[0]\n",
        "n3 = test_images_64.shape[0]\n",
        "\n",
        "num_samples1 = int(n1 * percentage)\n",
        "random_indices1 = np.random.choice(n1, num_samples1, replace=False)\n",
        "num_samples2 = int(n2 * percentage)\n",
        "random_indices2 = np.random.choice(n2, num_samples2, replace=False)\n",
        "num_samples3 = int(n3 * percentage)\n",
        "random_indices3 = np.random.choice(n3, num_samples3, replace=False)\n",
        "\n",
        "train_images_64 = train_images_64[random_indices1]\n",
        "train_labels_64 = train_labels_64[random_indices1]\n",
        "val_images_64 = val_images_64[random_indices2]\n",
        "val_labels_64 = val_labels_64[random_indices2]\n",
        "test_images_64 = test_images_64[random_indices3]\n",
        "test_labels_64 = test_labels_64[random_indices3]"
      ]
    },
    {
      "cell_type": "code",
      "source": [
        "from numpy.random import default_rng\n",
        "\n",
        "rng = default_rng(42)\n",
        "percentage = 0.1\n",
        "\n",
        "def subsample(imgs, labels, pct=percentage):\n",
        "    n = imgs.shape[0]\n",
        "    m = int(n * pct)\n",
        "    idx = rng.choice(n, size=m, replace=False)\n",
        "    return imgs[idx], labels[idx]\n",
        "\n",
        "train_images_64, train_labels_64 = subsample(train_images_64, train_labels_64)\n",
        "val_images_64,   val_labels_64   = subsample(val_images_64,   val_labels_64)\n",
        "test_images_64,  test_labels_64  = subsample(test_images_64,  test_labels_64)\n"
      ],
      "metadata": {
        "id": "V7vDPYXoto9r"
      },
      "execution_count": 13,
      "outputs": []
    },
    {
      "cell_type": "markdown",
      "source": [
        "## ChestMNIST_128"
      ],
      "metadata": {
        "id": "WzK9z_oErLSv"
      }
    },
    {
      "cell_type": "code",
      "source": [
        "data_128 = np.load(path2, mmap_mode=\"r\")\n",
        "\n",
        "train_images_128 = data_128[\"train_images\"]\n",
        "train_labels_128 = data_128[\"train_labels\"]\n",
        "val_images_128   = data_128[\"val_images\"]\n",
        "val_labels_128   = data_128[\"val_labels\"]\n",
        "test_images_128  = data_128[\"test_images\"]\n",
        "test_labels_128  = data_128[\"test_labels\"]\n"
      ],
      "metadata": {
        "id": "afePfQeGmxjD"
      },
      "execution_count": 5,
      "outputs": []
    },
    {
      "cell_type": "markdown",
      "source": [
        "## ChestMNIST_224"
      ],
      "metadata": {
        "id": "i57sx1OtrPAj"
      }
    },
    {
      "cell_type": "code",
      "source": [
        "data_224 = np.load(path3, mmap_mode=\"r\")\n",
        "\n",
        "train_images_224 = data_224[\"train_images\"]\n",
        "train_labels_224 = data_224[\"train_labels\"]\n",
        "val_images_224   = data_224[\"val_images\"]\n",
        "val_labels_224   = data_224[\"val_labels\"]\n",
        "test_images_224  = data_224[\"test_images\"]\n",
        "test_labels_224  = data_224[\"test_labels\"]\n"
      ],
      "metadata": {
        "id": "HO53nLSknYv7"
      },
      "execution_count": 6,
      "outputs": []
    }
  ]
}